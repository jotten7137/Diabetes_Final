{
 "cells": [
  {
   "cell_type": "code",
   "execution_count": 1,
   "metadata": {},
   "outputs": [],
   "source": [
    "#Dependencies\n",
    "%matplotlib inline\n",
    "import matplotlib.pyplot as plt\n",
    "import numpy as np\n",
    "import pandas as pd\n",
    "import warnings"
   ]
  },
  {
   "cell_type": "code",
   "execution_count": 2,
   "metadata": {},
   "outputs": [],
   "source": [
    "#sklearn dependencies\n",
    "from sklearn.datasets import make_regression\n",
    "from sklearn.linear_model import LogisticRegression\n",
    "from sklearn.metrics import mean_squared_error, r2_score\n",
    "from sklearn.model_selection import train_test_split\n",
    "from sklearn.preprocessing import StandardScaler\n",
    "from sklearn.linear_model import Lasso, Ridge, ElasticNet\n",
    "from mpl_toolkits.mplot3d import Axes3D\n",
    "warnings.filterwarnings('ignore')"
   ]
  },
  {
   "cell_type": "code",
   "execution_count": 3,
   "metadata": {},
   "outputs": [],
   "source": [
    "# #Read demographic csv\n",
    "# diabetes_data = pd.read_csv('demographic_clean_data.csv')\n",
    "# diabetes_data.head()"
   ]
  },
  {
   "cell_type": "code",
   "execution_count": 4,
   "metadata": {},
   "outputs": [],
   "source": [
    "#Read diabetes csv\n",
    "# diabetes_data = pd.read_csv('diabetes_clean_data.csv')\n",
    "# diabetes_data.head()"
   ]
  },
  {
   "cell_type": "code",
   "execution_count": 5,
   "metadata": {},
   "outputs": [
    {
     "data": {
      "text/html": [
       "<div>\n",
       "<style scoped>\n",
       "    .dataframe tbody tr th:only-of-type {\n",
       "        vertical-align: middle;\n",
       "    }\n",
       "\n",
       "    .dataframe tbody tr th {\n",
       "        vertical-align: top;\n",
       "    }\n",
       "\n",
       "    .dataframe thead th {\n",
       "        text-align: right;\n",
       "    }\n",
       "</style>\n",
       "<table border=\"1\" class=\"dataframe\">\n",
       "  <thead>\n",
       "    <tr style=\"text-align: right;\">\n",
       "      <th></th>\n",
       "      <th>seqn</th>\n",
       "      <th>alcohol</th>\n",
       "      <th>b12_added</th>\n",
       "      <th>caffeine</th>\n",
       "      <th>carbohydrates</th>\n",
       "      <th>cholesterol</th>\n",
       "      <th>fiber</th>\n",
       "      <th>iron</th>\n",
       "      <th>calories</th>\n",
       "      <th>foodcomponent</th>\n",
       "      <th>...</th>\n",
       "      <th>lenseendiaspec</th>\n",
       "      <th>onedocdia</th>\n",
       "      <th>uomd_w_m_y</th>\n",
       "      <th>pastyrchka1c</th>\n",
       "      <th>lasta1clvl</th>\n",
       "      <th>docsaya1c</th>\n",
       "      <th>rcntdbp</th>\n",
       "      <th>rcntsbp</th>\n",
       "      <th>uomd_w_m_ydocrcntdbpsbp</th>\n",
       "      <th>lastpupilsdilated</th>\n",
       "    </tr>\n",
       "  </thead>\n",
       "  <tbody>\n",
       "    <tr>\n",
       "      <th>0</th>\n",
       "      <td>51624</td>\n",
       "      <td>0.0</td>\n",
       "      <td>0.0</td>\n",
       "      <td>0</td>\n",
       "      <td>0.64</td>\n",
       "      <td>0</td>\n",
       "      <td>0.0</td>\n",
       "      <td>0.09</td>\n",
       "      <td>4</td>\n",
       "      <td>2</td>\n",
       "      <td>...</td>\n",
       "      <td>0</td>\n",
       "      <td>0</td>\n",
       "      <td>0</td>\n",
       "      <td>0</td>\n",
       "      <td>0</td>\n",
       "      <td>0</td>\n",
       "      <td>0</td>\n",
       "      <td>0</td>\n",
       "      <td>0</td>\n",
       "      <td>0</td>\n",
       "    </tr>\n",
       "    <tr>\n",
       "      <th>1</th>\n",
       "      <td>51624</td>\n",
       "      <td>0.0</td>\n",
       "      <td>0.0</td>\n",
       "      <td>0</td>\n",
       "      <td>0.53</td>\n",
       "      <td>0</td>\n",
       "      <td>0.0</td>\n",
       "      <td>0.07</td>\n",
       "      <td>4</td>\n",
       "      <td>2</td>\n",
       "      <td>...</td>\n",
       "      <td>0</td>\n",
       "      <td>0</td>\n",
       "      <td>0</td>\n",
       "      <td>0</td>\n",
       "      <td>0</td>\n",
       "      <td>0</td>\n",
       "      <td>0</td>\n",
       "      <td>0</td>\n",
       "      <td>0</td>\n",
       "      <td>0</td>\n",
       "    </tr>\n",
       "    <tr>\n",
       "      <th>2</th>\n",
       "      <td>51625</td>\n",
       "      <td>0.0</td>\n",
       "      <td>0.0</td>\n",
       "      <td>3</td>\n",
       "      <td>39.80</td>\n",
       "      <td>26</td>\n",
       "      <td>2.3</td>\n",
       "      <td>0.79</td>\n",
       "      <td>249</td>\n",
       "      <td>2</td>\n",
       "      <td>...</td>\n",
       "      <td>0</td>\n",
       "      <td>0</td>\n",
       "      <td>0</td>\n",
       "      <td>0</td>\n",
       "      <td>0</td>\n",
       "      <td>0</td>\n",
       "      <td>0</td>\n",
       "      <td>0</td>\n",
       "      <td>0</td>\n",
       "      <td>0</td>\n",
       "    </tr>\n",
       "    <tr>\n",
       "      <th>3</th>\n",
       "      <td>51625</td>\n",
       "      <td>0.0</td>\n",
       "      <td>0.0</td>\n",
       "      <td>1</td>\n",
       "      <td>15.52</td>\n",
       "      <td>8</td>\n",
       "      <td>0.5</td>\n",
       "      <td>0.79</td>\n",
       "      <td>94</td>\n",
       "      <td>2</td>\n",
       "      <td>...</td>\n",
       "      <td>0</td>\n",
       "      <td>0</td>\n",
       "      <td>0</td>\n",
       "      <td>0</td>\n",
       "      <td>0</td>\n",
       "      <td>0</td>\n",
       "      <td>0</td>\n",
       "      <td>0</td>\n",
       "      <td>0</td>\n",
       "      <td>0</td>\n",
       "    </tr>\n",
       "    <tr>\n",
       "      <th>4</th>\n",
       "      <td>51626</td>\n",
       "      <td>0.0</td>\n",
       "      <td>0.0</td>\n",
       "      <td>0</td>\n",
       "      <td>69.84</td>\n",
       "      <td>1</td>\n",
       "      <td>1.9</td>\n",
       "      <td>4.75</td>\n",
       "      <td>526</td>\n",
       "      <td>2</td>\n",
       "      <td>...</td>\n",
       "      <td>0</td>\n",
       "      <td>0</td>\n",
       "      <td>0</td>\n",
       "      <td>0</td>\n",
       "      <td>0</td>\n",
       "      <td>0</td>\n",
       "      <td>0</td>\n",
       "      <td>0</td>\n",
       "      <td>0</td>\n",
       "      <td>0</td>\n",
       "    </tr>\n",
       "  </tbody>\n",
       "</table>\n",
       "<p>5 rows × 72 columns</p>\n",
       "</div>"
      ],
      "text/plain": [
       "    seqn  alcohol  b12_added  caffeine  carbohydrates  cholesterol  fiber  \\\n",
       "0  51624      0.0        0.0         0           0.64            0    0.0   \n",
       "1  51624      0.0        0.0         0           0.53            0    0.0   \n",
       "2  51625      0.0        0.0         3          39.80           26    2.3   \n",
       "3  51625      0.0        0.0         1          15.52            8    0.5   \n",
       "4  51626      0.0        0.0         0          69.84            1    1.9   \n",
       "\n",
       "   iron  calories  foodcomponent        ...          lenseendiaspec  \\\n",
       "0  0.09         4              2        ...                       0   \n",
       "1  0.07         4              2        ...                       0   \n",
       "2  0.79       249              2        ...                       0   \n",
       "3  0.79        94              2        ...                       0   \n",
       "4  4.75       526              2        ...                       0   \n",
       "\n",
       "   onedocdia  uomd_w_m_y  pastyrchka1c  lasta1clvl  docsaya1c  rcntdbp  \\\n",
       "0          0           0             0           0          0        0   \n",
       "1          0           0             0           0          0        0   \n",
       "2          0           0             0           0          0        0   \n",
       "3          0           0             0           0          0        0   \n",
       "4          0           0             0           0          0        0   \n",
       "\n",
       "   rcntsbp  uomd_w_m_ydocrcntdbpsbp  lastpupilsdilated  \n",
       "0        0                        0                  0  \n",
       "1        0                        0                  0  \n",
       "2        0                        0                  0  \n",
       "3        0                        0                  0  \n",
       "4        0                        0                  0  \n",
       "\n",
       "[5 rows x 72 columns]"
      ]
     },
     "execution_count": 5,
     "metadata": {},
     "output_type": "execute_result"
    }
   ],
   "source": [
    "#Read nutrition csv\n",
    "nutrition_data = pd.read_csv('ml_clean_data.csv')\n",
    "nutrition_data.head()"
   ]
  },
  {
   "cell_type": "code",
   "execution_count": 6,
   "metadata": {},
   "outputs": [],
   "source": [
    "#Pandas get_dummies to convert categorical data\n",
    "# diabetes_data = pd.get_dummies(diabetes_data)\n",
    "nutrition_data = pd.get_dummies(nutrition_data)\n",
    "#demographic_data = pd.get_dummies(demographic_data)"
   ]
  },
  {
   "cell_type": "code",
   "execution_count": 7,
   "metadata": {
    "scrolled": true
   },
   "outputs": [],
   "source": [
    "# diabetes_data = diabetes_data.apply(np.int64)\n",
    "# diabetes_data.head()"
   ]
  },
  {
   "cell_type": "code",
   "execution_count": 8,
   "metadata": {
    "scrolled": true
   },
   "outputs": [],
   "source": [
    "# diabetes_data.dtypes"
   ]
  },
  {
   "cell_type": "code",
   "execution_count": 9,
   "metadata": {},
   "outputs": [
    {
     "data": {
      "text/html": [
       "<div>\n",
       "<style scoped>\n",
       "    .dataframe tbody tr th:only-of-type {\n",
       "        vertical-align: middle;\n",
       "    }\n",
       "\n",
       "    .dataframe tbody tr th {\n",
       "        vertical-align: top;\n",
       "    }\n",
       "\n",
       "    .dataframe thead th {\n",
       "        text-align: right;\n",
       "    }\n",
       "</style>\n",
       "<table border=\"1\" class=\"dataframe\">\n",
       "  <thead>\n",
       "    <tr style=\"text-align: right;\">\n",
       "      <th></th>\n",
       "      <th>seqn</th>\n",
       "      <th>alcohol</th>\n",
       "      <th>b12_added</th>\n",
       "      <th>caffeine</th>\n",
       "      <th>carbohydrates</th>\n",
       "      <th>cholesterol</th>\n",
       "      <th>fiber</th>\n",
       "      <th>iron</th>\n",
       "      <th>calories</th>\n",
       "      <th>foodcomponent</th>\n",
       "      <th>...</th>\n",
       "      <th>lenseendiaspec</th>\n",
       "      <th>onedocdia</th>\n",
       "      <th>uomd_w_m_y</th>\n",
       "      <th>pastyrchka1c</th>\n",
       "      <th>lasta1clvl</th>\n",
       "      <th>docsaya1c</th>\n",
       "      <th>rcntdbp</th>\n",
       "      <th>rcntsbp</th>\n",
       "      <th>uomd_w_m_ydocrcntdbpsbp</th>\n",
       "      <th>lastpupilsdilated</th>\n",
       "    </tr>\n",
       "  </thead>\n",
       "  <tbody>\n",
       "    <tr>\n",
       "      <th>0</th>\n",
       "      <td>51624</td>\n",
       "      <td>0</td>\n",
       "      <td>0</td>\n",
       "      <td>0</td>\n",
       "      <td>0</td>\n",
       "      <td>0</td>\n",
       "      <td>0</td>\n",
       "      <td>0</td>\n",
       "      <td>4</td>\n",
       "      <td>2</td>\n",
       "      <td>...</td>\n",
       "      <td>0</td>\n",
       "      <td>0</td>\n",
       "      <td>0</td>\n",
       "      <td>0</td>\n",
       "      <td>0</td>\n",
       "      <td>0</td>\n",
       "      <td>0</td>\n",
       "      <td>0</td>\n",
       "      <td>0</td>\n",
       "      <td>0</td>\n",
       "    </tr>\n",
       "    <tr>\n",
       "      <th>1</th>\n",
       "      <td>51624</td>\n",
       "      <td>0</td>\n",
       "      <td>0</td>\n",
       "      <td>0</td>\n",
       "      <td>0</td>\n",
       "      <td>0</td>\n",
       "      <td>0</td>\n",
       "      <td>0</td>\n",
       "      <td>4</td>\n",
       "      <td>2</td>\n",
       "      <td>...</td>\n",
       "      <td>0</td>\n",
       "      <td>0</td>\n",
       "      <td>0</td>\n",
       "      <td>0</td>\n",
       "      <td>0</td>\n",
       "      <td>0</td>\n",
       "      <td>0</td>\n",
       "      <td>0</td>\n",
       "      <td>0</td>\n",
       "      <td>0</td>\n",
       "    </tr>\n",
       "    <tr>\n",
       "      <th>2</th>\n",
       "      <td>51625</td>\n",
       "      <td>0</td>\n",
       "      <td>0</td>\n",
       "      <td>3</td>\n",
       "      <td>39</td>\n",
       "      <td>26</td>\n",
       "      <td>2</td>\n",
       "      <td>0</td>\n",
       "      <td>249</td>\n",
       "      <td>2</td>\n",
       "      <td>...</td>\n",
       "      <td>0</td>\n",
       "      <td>0</td>\n",
       "      <td>0</td>\n",
       "      <td>0</td>\n",
       "      <td>0</td>\n",
       "      <td>0</td>\n",
       "      <td>0</td>\n",
       "      <td>0</td>\n",
       "      <td>0</td>\n",
       "      <td>0</td>\n",
       "    </tr>\n",
       "    <tr>\n",
       "      <th>3</th>\n",
       "      <td>51625</td>\n",
       "      <td>0</td>\n",
       "      <td>0</td>\n",
       "      <td>1</td>\n",
       "      <td>15</td>\n",
       "      <td>8</td>\n",
       "      <td>0</td>\n",
       "      <td>0</td>\n",
       "      <td>94</td>\n",
       "      <td>2</td>\n",
       "      <td>...</td>\n",
       "      <td>0</td>\n",
       "      <td>0</td>\n",
       "      <td>0</td>\n",
       "      <td>0</td>\n",
       "      <td>0</td>\n",
       "      <td>0</td>\n",
       "      <td>0</td>\n",
       "      <td>0</td>\n",
       "      <td>0</td>\n",
       "      <td>0</td>\n",
       "    </tr>\n",
       "    <tr>\n",
       "      <th>4</th>\n",
       "      <td>51626</td>\n",
       "      <td>0</td>\n",
       "      <td>0</td>\n",
       "      <td>0</td>\n",
       "      <td>69</td>\n",
       "      <td>1</td>\n",
       "      <td>1</td>\n",
       "      <td>4</td>\n",
       "      <td>526</td>\n",
       "      <td>2</td>\n",
       "      <td>...</td>\n",
       "      <td>0</td>\n",
       "      <td>0</td>\n",
       "      <td>0</td>\n",
       "      <td>0</td>\n",
       "      <td>0</td>\n",
       "      <td>0</td>\n",
       "      <td>0</td>\n",
       "      <td>0</td>\n",
       "      <td>0</td>\n",
       "      <td>0</td>\n",
       "    </tr>\n",
       "  </tbody>\n",
       "</table>\n",
       "<p>5 rows × 72 columns</p>\n",
       "</div>"
      ],
      "text/plain": [
       "    seqn  alcohol  b12_added  caffeine  carbohydrates  cholesterol  fiber  \\\n",
       "0  51624        0          0         0              0            0      0   \n",
       "1  51624        0          0         0              0            0      0   \n",
       "2  51625        0          0         3             39           26      2   \n",
       "3  51625        0          0         1             15            8      0   \n",
       "4  51626        0          0         0             69            1      1   \n",
       "\n",
       "   iron  calories  foodcomponent        ...          lenseendiaspec  \\\n",
       "0     0         4              2        ...                       0   \n",
       "1     0         4              2        ...                       0   \n",
       "2     0       249              2        ...                       0   \n",
       "3     0        94              2        ...                       0   \n",
       "4     4       526              2        ...                       0   \n",
       "\n",
       "   onedocdia  uomd_w_m_y  pastyrchka1c  lasta1clvl  docsaya1c  rcntdbp  \\\n",
       "0          0           0             0           0          0        0   \n",
       "1          0           0             0           0          0        0   \n",
       "2          0           0             0           0          0        0   \n",
       "3          0           0             0           0          0        0   \n",
       "4          0           0             0           0          0        0   \n",
       "\n",
       "   rcntsbp  uomd_w_m_ydocrcntdbpsbp  lastpupilsdilated  \n",
       "0        0                        0                  0  \n",
       "1        0                        0                  0  \n",
       "2        0                        0                  0  \n",
       "3        0                        0                  0  \n",
       "4        0                        0                  0  \n",
       "\n",
       "[5 rows x 72 columns]"
      ]
     },
     "execution_count": 9,
     "metadata": {},
     "output_type": "execute_result"
    }
   ],
   "source": [
    "nutrition_data = nutrition_data.apply(np.int64)\n",
    "nutrition_data.head()"
   ]
  },
  {
   "cell_type": "code",
   "execution_count": 10,
   "metadata": {},
   "outputs": [
    {
     "data": {
      "text/plain": [
       "seqn                       int64\n",
       "alcohol                    int64\n",
       "b12_added                  int64\n",
       "caffeine                   int64\n",
       "carbohydrates              int64\n",
       "cholesterol                int64\n",
       "fiber                      int64\n",
       "iron                       int64\n",
       "calories                   int64\n",
       "foodcomponent              int64\n",
       "magnesium                  int64\n",
       "monosaturated_fat          int64\n",
       "potassium                  int64\n",
       "protein                    int64\n",
       "saturated_fat              int64\n",
       "sodium                     int64\n",
       "sugar                      int64\n",
       "trans_fat                  int64\n",
       "b12                        int64\n",
       "vitamin_d                  int64\n",
       "agetolddiabetes            int64\n",
       "lentakinginsulin           int64\n",
       "seendocpastyr              int64\n",
       "#chkglucose                int64\n",
       "docdbpread                 int64\n",
       "docsbpread                 int64\n",
       "rcntldl#                   int64\n",
       "docldlread                 int64\n",
       "docchkfeet#                int64\n",
       "prsnlchkfeet               int64\n",
       "                           ...  \n",
       "hadbabyovr9lb              int64\n",
       "lackofphyact               int64\n",
       "highbp                     int64\n",
       "highbs                     int64\n",
       "highchol                   int64\n",
       "hypoglycemic               int64\n",
       "extrmhunger                int64\n",
       "tinginhdsfeet              int64\n",
       "blurredvision              int64\n",
       "incfatigue                 int64\n",
       "anyatrisk                  int64\n",
       "docwarning                 int64\n",
       "other                      int64\n",
       "gestationdia               int64\n",
       "frequrination              int64\n",
       "thirst                     int64\n",
       "craveeatsugr               int64\n",
       "medication                 int64\n",
       "polycysticovsyn            int64\n",
       "bloodtst3yrs               int64\n",
       "lenseendiaspec             int64\n",
       "onedocdia                  int64\n",
       "uomd_w_m_y                 int64\n",
       "pastyrchka1c               int64\n",
       "lasta1clvl                 int64\n",
       "docsaya1c                  int64\n",
       "rcntdbp                    int64\n",
       "rcntsbp                    int64\n",
       "uomd_w_m_ydocrcntdbpsbp    int64\n",
       "lastpupilsdilated          int64\n",
       "Length: 72, dtype: object"
      ]
     },
     "execution_count": 10,
     "metadata": {},
     "output_type": "execute_result"
    }
   ],
   "source": [
    "nutrition_data.dtypes"
   ]
  },
  {
   "cell_type": "code",
   "execution_count": 11,
   "metadata": {},
   "outputs": [],
   "source": [
    "#Merge\n",
    "# diabetes_nutr = diabetes_data.merge(nutrition_data,how='inner',on='SEQN')\n",
    "# diabetes_nutr.head()"
   ]
  },
  {
   "cell_type": "code",
   "execution_count": 12,
   "metadata": {
    "scrolled": true
   },
   "outputs": [],
   "source": [
    "# diabetes_nutr.dtypes"
   ]
  },
  {
   "cell_type": "code",
   "execution_count": 13,
   "metadata": {},
   "outputs": [],
   "source": [
    "nutrition_data.to_csv('diabetes_nutr.csv')"
   ]
  },
  {
   "cell_type": "code",
   "execution_count": 14,
   "metadata": {},
   "outputs": [
    {
     "data": {
      "text/html": [
       "<div>\n",
       "<style scoped>\n",
       "    .dataframe tbody tr th:only-of-type {\n",
       "        vertical-align: middle;\n",
       "    }\n",
       "\n",
       "    .dataframe tbody tr th {\n",
       "        vertical-align: top;\n",
       "    }\n",
       "\n",
       "    .dataframe thead th {\n",
       "        text-align: right;\n",
       "    }\n",
       "</style>\n",
       "<table border=\"1\" class=\"dataframe\">\n",
       "  <thead>\n",
       "    <tr style=\"text-align: right;\">\n",
       "      <th></th>\n",
       "      <th>seqn</th>\n",
       "      <th>alcohol</th>\n",
       "      <th>b12_added</th>\n",
       "      <th>caffeine</th>\n",
       "      <th>carbohydrates</th>\n",
       "      <th>cholesterol</th>\n",
       "      <th>fiber</th>\n",
       "      <th>iron</th>\n",
       "      <th>calories</th>\n",
       "      <th>foodcomponent</th>\n",
       "      <th>...</th>\n",
       "      <th>lenseendiaspec</th>\n",
       "      <th>onedocdia</th>\n",
       "      <th>uomd_w_m_y</th>\n",
       "      <th>pastyrchka1c</th>\n",
       "      <th>lasta1clvl</th>\n",
       "      <th>docsaya1c</th>\n",
       "      <th>rcntdbp</th>\n",
       "      <th>rcntsbp</th>\n",
       "      <th>uomd_w_m_ydocrcntdbpsbp</th>\n",
       "      <th>lastpupilsdilated</th>\n",
       "    </tr>\n",
       "  </thead>\n",
       "  <tbody>\n",
       "    <tr>\n",
       "      <th>33003</th>\n",
       "      <td>75714</td>\n",
       "      <td>0</td>\n",
       "      <td>0</td>\n",
       "      <td>0</td>\n",
       "      <td>16</td>\n",
       "      <td>54</td>\n",
       "      <td>1</td>\n",
       "      <td>1</td>\n",
       "      <td>313</td>\n",
       "      <td>2</td>\n",
       "      <td>...</td>\n",
       "      <td>0</td>\n",
       "      <td>0</td>\n",
       "      <td>0</td>\n",
       "      <td>0</td>\n",
       "      <td>0</td>\n",
       "      <td>0</td>\n",
       "      <td>0</td>\n",
       "      <td>0</td>\n",
       "      <td>0</td>\n",
       "      <td>0</td>\n",
       "    </tr>\n",
       "    <tr>\n",
       "      <th>12172</th>\n",
       "      <td>59809</td>\n",
       "      <td>0</td>\n",
       "      <td>0</td>\n",
       "      <td>0</td>\n",
       "      <td>81</td>\n",
       "      <td>0</td>\n",
       "      <td>7</td>\n",
       "      <td>1</td>\n",
       "      <td>649</td>\n",
       "      <td>2</td>\n",
       "      <td>...</td>\n",
       "      <td>0</td>\n",
       "      <td>0</td>\n",
       "      <td>0</td>\n",
       "      <td>0</td>\n",
       "      <td>0</td>\n",
       "      <td>0</td>\n",
       "      <td>0</td>\n",
       "      <td>0</td>\n",
       "      <td>0</td>\n",
       "      <td>0</td>\n",
       "    </tr>\n",
       "    <tr>\n",
       "      <th>5192</th>\n",
       "      <td>55104</td>\n",
       "      <td>0</td>\n",
       "      <td>0</td>\n",
       "      <td>0</td>\n",
       "      <td>10</td>\n",
       "      <td>0</td>\n",
       "      <td>0</td>\n",
       "      <td>0</td>\n",
       "      <td>33</td>\n",
       "      <td>2</td>\n",
       "      <td>...</td>\n",
       "      <td>0</td>\n",
       "      <td>0</td>\n",
       "      <td>0</td>\n",
       "      <td>0</td>\n",
       "      <td>0</td>\n",
       "      <td>0</td>\n",
       "      <td>0</td>\n",
       "      <td>0</td>\n",
       "      <td>0</td>\n",
       "      <td>0</td>\n",
       "    </tr>\n",
       "    <tr>\n",
       "      <th>32511</th>\n",
       "      <td>75387</td>\n",
       "      <td>0</td>\n",
       "      <td>0</td>\n",
       "      <td>0</td>\n",
       "      <td>1</td>\n",
       "      <td>16</td>\n",
       "      <td>0</td>\n",
       "      <td>0</td>\n",
       "      <td>66</td>\n",
       "      <td>2</td>\n",
       "      <td>...</td>\n",
       "      <td>0</td>\n",
       "      <td>0</td>\n",
       "      <td>0</td>\n",
       "      <td>0</td>\n",
       "      <td>0</td>\n",
       "      <td>0</td>\n",
       "      <td>0</td>\n",
       "      <td>0</td>\n",
       "      <td>0</td>\n",
       "      <td>0</td>\n",
       "    </tr>\n",
       "    <tr>\n",
       "      <th>50057</th>\n",
       "      <td>87323</td>\n",
       "      <td>0</td>\n",
       "      <td>0</td>\n",
       "      <td>0</td>\n",
       "      <td>10</td>\n",
       "      <td>0</td>\n",
       "      <td>1</td>\n",
       "      <td>0</td>\n",
       "      <td>60</td>\n",
       "      <td>2</td>\n",
       "      <td>...</td>\n",
       "      <td>0</td>\n",
       "      <td>0</td>\n",
       "      <td>0</td>\n",
       "      <td>0</td>\n",
       "      <td>0</td>\n",
       "      <td>0</td>\n",
       "      <td>0</td>\n",
       "      <td>0</td>\n",
       "      <td>0</td>\n",
       "      <td>0</td>\n",
       "    </tr>\n",
       "  </tbody>\n",
       "</table>\n",
       "<p>5 rows × 72 columns</p>\n",
       "</div>"
      ],
      "text/plain": [
       "        seqn  alcohol  b12_added  caffeine  carbohydrates  cholesterol  fiber  \\\n",
       "33003  75714        0          0         0             16           54      1   \n",
       "12172  59809        0          0         0             81            0      7   \n",
       "5192   55104        0          0         0             10            0      0   \n",
       "32511  75387        0          0         0              1           16      0   \n",
       "50057  87323        0          0         0             10            0      1   \n",
       "\n",
       "       iron  calories  foodcomponent        ...          lenseendiaspec  \\\n",
       "33003     1       313              2        ...                       0   \n",
       "12172     1       649              2        ...                       0   \n",
       "5192      0        33              2        ...                       0   \n",
       "32511     0        66              2        ...                       0   \n",
       "50057     0        60              2        ...                       0   \n",
       "\n",
       "       onedocdia  uomd_w_m_y  pastyrchka1c  lasta1clvl  docsaya1c  rcntdbp  \\\n",
       "33003          0           0             0           0          0        0   \n",
       "12172          0           0             0           0          0        0   \n",
       "5192           0           0             0           0          0        0   \n",
       "32511          0           0             0           0          0        0   \n",
       "50057          0           0             0           0          0        0   \n",
       "\n",
       "       rcntsbp  uomd_w_m_ydocrcntdbpsbp  lastpupilsdilated  \n",
       "33003        0                        0                  0  \n",
       "12172        0                        0                  0  \n",
       "5192         0                        0                  0  \n",
       "32511        0                        0                  0  \n",
       "50057        0                        0                  0  \n",
       "\n",
       "[5 rows x 72 columns]"
      ]
     },
     "execution_count": 14,
     "metadata": {},
     "output_type": "execute_result"
    }
   ],
   "source": [
    "diabetes_sample = nutrition_data.sample(frac=0.001,replace=True,random_state=1)\n",
    "diabetes_sample.head()"
   ]
  },
  {
   "cell_type": "code",
   "execution_count": 15,
   "metadata": {},
   "outputs": [],
   "source": [
    "# #Variables, target & shape\n",
    "# X = diabetes_nutr[['Overweight','Age','PoorDiet','Race','LackOfPhyAct','HighBP','HighBS','HighChol']] #Variable\n",
    "# y = diabetes_nutr['EvrToldPreDia(Bi)'].values.reshape(-1,1) #test\n",
    "# print (X.shape, y.shape)"
   ]
  },
  {
   "cell_type": "code",
   "execution_count": 16,
   "metadata": {},
   "outputs": [],
   "source": [
    "# #Variables, target & shape\n",
    "# X = diabetes_nutr[['ALCOHOL','B12_ADDED','CAFFEINE','CARBOHYDRATES','CHOLESTEROL','FIBER','IRON','CALORIES','FOODCOMPONENT','MAGNESIUM','MONOSATURATED_FAT','POTASSIUM','PROTEIN','SATURATED_FAT','SODIUM','SUGAR']] #Variable\n",
    "# y = diabetes_nutr['EvrToldPreDia(Bi)'].values.reshape(-1,1) #test\n",
    "# print (X.shape, y.shape)"
   ]
  },
  {
   "cell_type": "code",
   "execution_count": 32,
   "metadata": {},
   "outputs": [
    {
     "name": "stdout",
     "output_type": "stream",
     "text": [
      "(59, 2) (59,)\n"
     ]
    }
   ],
   "source": [
    "#Variables, target & shape\n",
    "X = diabetes_sample[['magnesium','calories']] #Variable\n",
    "y = diabetes_sample['evrtoldpredia'].values.reshape(-1) #test\n",
    "print (X.shape, y.shape)"
   ]
  },
  {
   "cell_type": "code",
   "execution_count": 33,
   "metadata": {
    "scrolled": true
   },
   "outputs": [
    {
     "name": "stdout",
     "output_type": "stream",
     "text": [
      "labels: [2 2 2 0 0 0 2 0 2 0]\n",
      "data:        magnesium  calories\n",
      "33003         40       313\n",
      "12172         90       649\n",
      "5192           0        33\n",
      "32511          7        66\n",
      "50057         18        60\n",
      "43723          1       156\n",
      "7813           2         0\n",
      "52047          2         5\n",
      "21440         32       105\n",
      "32912         23       107\n"
     ]
    }
   ],
   "source": [
    "print(f\"labels: {y[:10]}\")\n",
    "print(f\"data: {X[:10]}\")"
   ]
  },
  {
   "cell_type": "code",
   "execution_count": 34,
   "metadata": {},
   "outputs": [
    {
     "data": {
      "text/plain": [
       "<matplotlib.collections.PathCollection at 0x1e435a48160>"
      ]
     },
     "execution_count": 34,
     "metadata": {},
     "output_type": "execute_result"
    },
    {
     "data": {
      "image/png": "[encoded data removed]",
      "text/plain": [
       "<Figure size 432x288 with 1 Axes>"
      ]
     },
     "metadata": {
      "needs_background": "light"
     },
     "output_type": "display_data"
    }
   ],
   "source": [
    "plt.scatter(X.iloc[:,0], X.iloc[:, 1], c=y)"
   ]
  },
  {
   "cell_type": "code",
   "execution_count": 38,
   "metadata": {},
   "outputs": [
    {
     "name": "stdout",
     "output_type": "stream",
     "text": [
      "(59, 2) (59, 1)\n"
     ]
    }
   ],
   "source": [
    "X = diabetes_sample[['magnesium','calories']] #Variable\n",
    "y = diabetes_sample['evrtoldpredia'].values.reshape(-1,1) #test\n",
    "print (X.shape, y.shape)"
   ]
  },
  {
   "cell_type": "code",
   "execution_count": 39,
   "metadata": {},
   "outputs": [],
   "source": [
    "#Training and Testing\n",
    "#X=Variable & y=target\n",
    "X_train, X_test, y_train, y_test = train_test_split(X,y,random_state=50)"
   ]
  },
  {
   "cell_type": "code",
   "execution_count": 40,
   "metadata": {},
   "outputs": [],
   "source": [
    "#Create a StandardScater model and fit training\n",
    "X_scaler = StandardScaler().fit(X_train)\n",
    "y_scaler = StandardScaler().fit(y_train) #y already binary? ML day 2\n"
   ]
  },
  {
   "cell_type": "code",
   "execution_count": 41,
   "metadata": {},
   "outputs": [],
   "source": [
    "#\n",
    "X_train_scaled = X_scaler.transform(X_train)\n",
    "X_test_scaled = X_scaler.transform(X_test)\n",
    "y_train_scaled = y_scaler.transform(y_train)\n",
    "y_test_scaled = y_scaler.transform(y_test)"
   ]
  },
  {
   "cell_type": "code",
   "execution_count": 42,
   "metadata": {},
   "outputs": [
    {
     "data": {
      "text/plain": [
       "LogisticRegression(C=1.0, class_weight=None, dual=False, fit_intercept=True,\n",
       "          intercept_scaling=1, max_iter=100, multi_class='warn',\n",
       "          n_jobs=None, penalty='l2', random_state=None, solver='warn',\n",
       "          tol=0.0001, verbose=0, warm_start=False)"
      ]
     },
     "execution_count": 42,
     "metadata": {},
     "output_type": "execute_result"
    }
   ],
   "source": [
    "#LinearRegression model\n",
    "model = LogisticRegression()\n",
    "model.fit(X_train_scaled, y_train)"
   ]
  },
  {
   "cell_type": "code",
   "execution_count": 43,
   "metadata": {},
   "outputs": [
    {
     "name": "stdout",
     "output_type": "stream",
     "text": [
      "trainingDataScore: 0.6136363636363636\n",
      "testingDataScore: 0.8\n"
     ]
    }
   ],
   "source": [
    "print(f\"trainingDataScore: {model.score(X_train, y_train)}\")\n",
    "print(f\"testingDataScore: {model.score(X_test, y_test)}\")"
   ]
  },
  {
   "cell_type": "code",
   "execution_count": 45,
   "metadata": {},
   "outputs": [
    {
     "data": {
      "text/plain": [
       "LogisticRegression(C=1.0, class_weight=None, dual=False, fit_intercept=True,\n",
       "          intercept_scaling=1, max_iter=100, multi_class='warn',\n",
       "          n_jobs=None, penalty='l2', random_state=None, solver='warn',\n",
       "          tol=0.0001, verbose=0, warm_start=False)"
      ]
     },
     "execution_count": 45,
     "metadata": {},
     "output_type": "execute_result"
    }
   ],
   "source": [
    "#Make prediction\n",
    "#Use X_test_scaled data\n",
    "#Plot y_test_scaled vs y_test scaled\n",
    "\n",
    "#Random slice of model - exiting matplot or principal component analysis python\n",
    "\n",
    "predictions = model.predict(X_test_scaled)\n",
    "model.fit(X_train_scaled,y_train)\n",
    "# plt.scatter(model.predict(X_train_scaled), model.predict(X_train_scaled)-y_train, c=\"blue\", label=\"Training Data\")\n",
    "# plt.scatter(model.predict(X_test_scaled), model.predict(X_test_scaled)-y_test, c=\"orange\", label=\"Testing Data\")\n",
    "# plt.legend()\n",
    "# plt.hlines(y=0, xmin=y_test.min(), xmax=y_test.max())\n",
    "# plt.title(\"Residual Plot\")\n",
    "# plt.show()\n",
    "# plt.scatter(X[:,0], X[:,1], c=y)"
   ]
  },
  {
   "cell_type": "code",
   "execution_count": 46,
   "metadata": {},
   "outputs": [
    {
     "name": "stdout",
     "output_type": "stream",
     "text": [
      "MSE:0.8, R2: 0.8\n"
     ]
    }
   ],
   "source": [
    "#MSE & r2\n",
    "MSE = mean_squared_error(y_test, predictions)\n",
    "r2 = model.score(X_test_scaled, y_test)\n",
    "print(f'MSE:{MSE}, R2: {r2}')"
   ]
  },
  {
   "cell_type": "code",
   "execution_count": 47,
   "metadata": {},
   "outputs": [
    {
     "name": "stdout",
     "output_type": "stream",
     "text": [
      "MSE:0.7085039560748111, R2: 0.8\n"
     ]
    }
   ],
   "source": [
    "#Lasso model\n",
    "lasso = Lasso(alpha=.01).fit(X_train_scaled,y_train)\n",
    "predictions = lasso.predict(X_test_scaled)\n",
    "MSE = mean_squared_error(y_test, predictions)\n",
    "r2 = model.score(X_test_scaled, y_test)\n",
    "print(f'MSE:{MSE}, R2: {r2}')"
   ]
  },
  {
   "cell_type": "code",
   "execution_count": 48,
   "metadata": {},
   "outputs": [
    {
     "name": "stdout",
     "output_type": "stream",
     "text": [
      "MSE:0.703861253190775, R2: 0.8\n"
     ]
    }
   ],
   "source": [
    "#Ridge model\n",
    "ridge = Ridge(alpha=.01).fit(X_train_scaled, y_train)\n",
    "predictions = ridge.predict(X_test_scaled)\n",
    "MSE = mean_squared_error(y_test, predictions)\n",
    "r2 = model.score(X_test_scaled, y_test)\n",
    "print(f'MSE:{MSE}, R2: {r2}')"
   ]
  },
  {
   "cell_type": "code",
   "execution_count": 49,
   "metadata": {},
   "outputs": [
    {
     "name": "stdout",
     "output_type": "stream",
     "text": [
      "MSE:0.7078185081437354, R2: -0.10596641897458635\n"
     ]
    }
   ],
   "source": [
    "#ElasticNet model\n",
    "elasticnet = ElasticNet(alpha=.01).fit(X_train_scaled, y_train)\n",
    "predictions = elasticnet.predict(X_test_scaled)\n",
    "MSE = mean_squared_error(y_test, predictions)\n",
    "r2 = elasticnet.score(X_test_scaled,y_test)\n",
    "print(f'MSE:{MSE}, R2: {r2}')"
   ]
  },
  {
   "cell_type": "code",
   "execution_count": null,
   "metadata": {},
   "outputs": [],
   "source": []
  }
 ],
 "metadata": {
  "kernelspec": {
   "display_name": "Python 3",
   "language": "python",
   "name": "python3"
  },
  "language_info": {
   "codemirror_mode": {
    "name": "ipython",
    "version": 3
   },
   "file_extension": ".py",
   "mimetype": "text/x-python",
   "name": "python",
   "nbconvert_exporter": "python",
   "pygments_lexer": "ipython3",
   "version": "3.6.6"
  }
 },
 "nbformat": 4,
 "nbformat_minor": 2
}
