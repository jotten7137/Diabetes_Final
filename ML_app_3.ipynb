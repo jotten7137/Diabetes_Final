{
 "cells": [
  {
   "cell_type": "code",
   "execution_count": 1,
   "metadata": {},
   "outputs": [],
   "source": [
    "#Dependencies\n",
    "%matplotlib inline\n",
    "import matplotlib.pyplot as plt\n",
    "import numpy as np\n",
    "import pandas as pd\n",
    "import warnings"
   ]
  },
  {
   "cell_type": "code",
   "execution_count": 2,
   "metadata": {},
   "outputs": [],
   "source": [
    "#sklearn dependencies\n",
    "from sklearn.datasets import make_regression\n",
    "from sklearn.linear_model import LogisticRegression\n",
    "from sklearn.metrics import mean_squared_error, r2_score\n",
    "from sklearn.model_selection import train_test_split\n",
    "from sklearn.preprocessing import StandardScaler\n",
    "from sklearn.linear_model import Lasso, Ridge, ElasticNet\n",
    "from mpl_toolkits.mplot3d import Axes3D\n",
    "warnings.filterwarnings('ignore')"
   ]
  },
  {
   "cell_type": "code",
   "execution_count": 3,
   "metadata": {},
   "outputs": [],
   "source": [
    "# #Read demographic csv\n",
    "# diabetes_data = pd.read_csv('demographic_clean_data.csv')\n",
    "# diabetes_data.head()"
   ]
  },
  {
   "cell_type": "code",
   "execution_count": 4,
   "metadata": {},
   "outputs": [],
   "source": [
    "#Read diabetes csv\n",
    "# diabetes_data = pd.read_csv('diabetes_clean_data.csv')\n",
    "# diabetes_data.head()"
   ]
  },
  {
   "cell_type": "code",
   "execution_count": 5,
   "metadata": {},
   "outputs": [
    {
     "data": {
      "text/html": [
       "<div>\n",
       "<style scoped>\n",
       "    .dataframe tbody tr th:only-of-type {\n",
       "        vertical-align: middle;\n",
       "    }\n",
       "\n",
       "    .dataframe tbody tr th {\n",
       "        vertical-align: top;\n",
       "    }\n",
       "\n",
       "    .dataframe thead th {\n",
       "        text-align: right;\n",
       "    }\n",
       "</style>\n",
       "<table border=\"1\" class=\"dataframe\">\n",
       "  <thead>\n",
       "    <tr style=\"text-align: right;\">\n",
       "      <th></th>\n",
       "      <th>seqn</th>\n",
       "      <th>alcohol</th>\n",
       "      <th>b12_added</th>\n",
       "      <th>caffeine</th>\n",
       "      <th>carbohydrates</th>\n",
       "      <th>cholesterol</th>\n",
       "      <th>fiber</th>\n",
       "      <th>iron</th>\n",
       "      <th>calories</th>\n",
       "      <th>foodcomponent</th>\n",
       "      <th>...</th>\n",
       "      <th>lenseendiaspec</th>\n",
       "      <th>onedocdia</th>\n",
       "      <th>uomd_w_m_y</th>\n",
       "      <th>pastyrchka1c</th>\n",
       "      <th>lasta1clvl</th>\n",
       "      <th>docsaya1c</th>\n",
       "      <th>rcntdbp</th>\n",
       "      <th>rcntsbp</th>\n",
       "      <th>uomd_w_m_ydocrcntdbpsbp</th>\n",
       "      <th>lastpupilsdilated</th>\n",
       "    </tr>\n",
       "  </thead>\n",
       "  <tbody>\n",
       "    <tr>\n",
       "      <th>0</th>\n",
       "      <td>51624</td>\n",
       "      <td>0.0</td>\n",
       "      <td>0.0</td>\n",
       "      <td>0</td>\n",
       "      <td>0.64</td>\n",
       "      <td>0</td>\n",
       "      <td>0.0</td>\n",
       "      <td>0.09</td>\n",
       "      <td>4</td>\n",
       "      <td>2</td>\n",
       "      <td>...</td>\n",
       "      <td>0</td>\n",
       "      <td>0</td>\n",
       "      <td>0</td>\n",
       "      <td>0</td>\n",
       "      <td>0</td>\n",
       "      <td>0</td>\n",
       "      <td>0</td>\n",
       "      <td>0</td>\n",
       "      <td>0</td>\n",
       "      <td>0</td>\n",
       "    </tr>\n",
       "    <tr>\n",
       "      <th>1</th>\n",
       "      <td>51624</td>\n",
       "      <td>0.0</td>\n",
       "      <td>0.0</td>\n",
       "      <td>0</td>\n",
       "      <td>0.53</td>\n",
       "      <td>0</td>\n",
       "      <td>0.0</td>\n",
       "      <td>0.07</td>\n",
       "      <td>4</td>\n",
       "      <td>2</td>\n",
       "      <td>...</td>\n",
       "      <td>0</td>\n",
       "      <td>0</td>\n",
       "      <td>0</td>\n",
       "      <td>0</td>\n",
       "      <td>0</td>\n",
       "      <td>0</td>\n",
       "      <td>0</td>\n",
       "      <td>0</td>\n",
       "      <td>0</td>\n",
       "      <td>0</td>\n",
       "    </tr>\n",
       "    <tr>\n",
       "      <th>2</th>\n",
       "      <td>51625</td>\n",
       "      <td>0.0</td>\n",
       "      <td>0.0</td>\n",
       "      <td>3</td>\n",
       "      <td>39.80</td>\n",
       "      <td>26</td>\n",
       "      <td>2.3</td>\n",
       "      <td>0.79</td>\n",
       "      <td>249</td>\n",
       "      <td>2</td>\n",
       "      <td>...</td>\n",
       "      <td>0</td>\n",
       "      <td>0</td>\n",
       "      <td>0</td>\n",
       "      <td>0</td>\n",
       "      <td>0</td>\n",
       "      <td>0</td>\n",
       "      <td>0</td>\n",
       "      <td>0</td>\n",
       "      <td>0</td>\n",
       "      <td>0</td>\n",
       "    </tr>\n",
       "    <tr>\n",
       "      <th>3</th>\n",
       "      <td>51625</td>\n",
       "      <td>0.0</td>\n",
       "      <td>0.0</td>\n",
       "      <td>1</td>\n",
       "      <td>15.52</td>\n",
       "      <td>8</td>\n",
       "      <td>0.5</td>\n",
       "      <td>0.79</td>\n",
       "      <td>94</td>\n",
       "      <td>2</td>\n",
       "      <td>...</td>\n",
       "      <td>0</td>\n",
       "      <td>0</td>\n",
       "      <td>0</td>\n",
       "      <td>0</td>\n",
       "      <td>0</td>\n",
       "      <td>0</td>\n",
       "      <td>0</td>\n",
       "      <td>0</td>\n",
       "      <td>0</td>\n",
       "      <td>0</td>\n",
       "    </tr>\n",
       "    <tr>\n",
       "      <th>4</th>\n",
       "      <td>51626</td>\n",
       "      <td>0.0</td>\n",
       "      <td>0.0</td>\n",
       "      <td>0</td>\n",
       "      <td>69.84</td>\n",
       "      <td>1</td>\n",
       "      <td>1.9</td>\n",
       "      <td>4.75</td>\n",
       "      <td>526</td>\n",
       "      <td>2</td>\n",
       "      <td>...</td>\n",
       "      <td>0</td>\n",
       "      <td>0</td>\n",
       "      <td>0</td>\n",
       "      <td>0</td>\n",
       "      <td>0</td>\n",
       "      <td>0</td>\n",
       "      <td>0</td>\n",
       "      <td>0</td>\n",
       "      <td>0</td>\n",
       "      <td>0</td>\n",
       "    </tr>\n",
       "  </tbody>\n",
       "</table>\n",
       "<p>5 rows × 73 columns</p>\n",
       "</div>"
      ],
      "text/plain": [
       "    seqn  alcohol  b12_added  caffeine  carbohydrates  cholesterol  fiber  \\\n",
       "0  51624      0.0        0.0         0           0.64            0    0.0   \n",
       "1  51624      0.0        0.0         0           0.53            0    0.0   \n",
       "2  51625      0.0        0.0         3          39.80           26    2.3   \n",
       "3  51625      0.0        0.0         1          15.52            8    0.5   \n",
       "4  51626      0.0        0.0         0          69.84            1    1.9   \n",
       "\n",
       "   iron  calories  foodcomponent        ...          lenseendiaspec  \\\n",
       "0  0.09         4              2        ...                       0   \n",
       "1  0.07         4              2        ...                       0   \n",
       "2  0.79       249              2        ...                       0   \n",
       "3  0.79        94              2        ...                       0   \n",
       "4  4.75       526              2        ...                       0   \n",
       "\n",
       "   onedocdia  uomd_w_m_y  pastyrchka1c  lasta1clvl  docsaya1c  rcntdbp  \\\n",
       "0          0           0             0           0          0        0   \n",
       "1          0           0             0           0          0        0   \n",
       "2          0           0             0           0          0        0   \n",
       "3          0           0             0           0          0        0   \n",
       "4          0           0             0           0          0        0   \n",
       "\n",
       "   rcntsbp  uomd_w_m_ydocrcntdbpsbp  lastpupilsdilated  \n",
       "0        0                        0                  0  \n",
       "1        0                        0                  0  \n",
       "2        0                        0                  0  \n",
       "3        0                        0                  0  \n",
       "4        0                        0                  0  \n",
       "\n",
       "[5 rows x 73 columns]"
      ]
     },
     "execution_count": 5,
     "metadata": {},
     "output_type": "execute_result"
    }
   ],
   "source": [
    "#Read nutrition csv\n",
    "nutrition_data = pd.read_csv('ml_clean_data.csv')\n",
    "nutrition_data.head()"
   ]
  },
  {
   "cell_type": "code",
   "execution_count": 6,
   "metadata": {},
   "outputs": [],
   "source": [
    "#Pandas get_dummies to convert categorical data\n",
    "# diabetes_data = pd.get_dummies(diabetes_data)\n",
    "nutrition_data = pd.get_dummies(nutrition_data)\n",
    "#demographic_data = pd.get_dummies(demographic_data)"
   ]
  },
  {
   "cell_type": "code",
   "execution_count": 7,
   "metadata": {
    "scrolled": true
   },
   "outputs": [],
   "source": [
    "# diabetes_data = diabetes_data.apply(np.int64)\n",
    "# diabetes_data.head()"
   ]
  },
  {
   "cell_type": "code",
   "execution_count": 8,
   "metadata": {
    "scrolled": true
   },
   "outputs": [],
   "source": [
    "# diabetes_data.dtypes"
   ]
  },
  {
   "cell_type": "code",
   "execution_count": 9,
   "metadata": {},
   "outputs": [
    {
     "data": {
      "text/html": [
       "<div>\n",
       "<style scoped>\n",
       "    .dataframe tbody tr th:only-of-type {\n",
       "        vertical-align: middle;\n",
       "    }\n",
       "\n",
       "    .dataframe tbody tr th {\n",
       "        vertical-align: top;\n",
       "    }\n",
       "\n",
       "    .dataframe thead th {\n",
       "        text-align: right;\n",
       "    }\n",
       "</style>\n",
       "<table border=\"1\" class=\"dataframe\">\n",
       "  <thead>\n",
       "    <tr style=\"text-align: right;\">\n",
       "      <th></th>\n",
       "      <th>seqn</th>\n",
       "      <th>alcohol</th>\n",
       "      <th>b12_added</th>\n",
       "      <th>caffeine</th>\n",
       "      <th>carbohydrates</th>\n",
       "      <th>cholesterol</th>\n",
       "      <th>fiber</th>\n",
       "      <th>iron</th>\n",
       "      <th>calories</th>\n",
       "      <th>foodcomponent</th>\n",
       "      <th>...</th>\n",
       "      <th>rcntdbp</th>\n",
       "      <th>rcntsbp</th>\n",
       "      <th>uomd_w_m_ydocrcntdbpsbp</th>\n",
       "      <th>lastpupilsdilated</th>\n",
       "      <th>feelriskfordia_0</th>\n",
       "      <th>feelriskfordia_1</th>\n",
       "      <th>feelriskfordia_2</th>\n",
       "      <th>feelriskfordia_9</th>\n",
       "      <th>feelriskfordia_0</th>\n",
       "      <th>feelriskfordia_`</th>\n",
       "    </tr>\n",
       "  </thead>\n",
       "  <tbody>\n",
       "    <tr>\n",
       "      <th>0</th>\n",
       "      <td>51624</td>\n",
       "      <td>0</td>\n",
       "      <td>0</td>\n",
       "      <td>0</td>\n",
       "      <td>0</td>\n",
       "      <td>0</td>\n",
       "      <td>0</td>\n",
       "      <td>0</td>\n",
       "      <td>4</td>\n",
       "      <td>2</td>\n",
       "      <td>...</td>\n",
       "      <td>0</td>\n",
       "      <td>0</td>\n",
       "      <td>0</td>\n",
       "      <td>0</td>\n",
       "      <td>0</td>\n",
       "      <td>0</td>\n",
       "      <td>0</td>\n",
       "      <td>0</td>\n",
       "      <td>1</td>\n",
       "      <td>0</td>\n",
       "    </tr>\n",
       "    <tr>\n",
       "      <th>1</th>\n",
       "      <td>51624</td>\n",
       "      <td>0</td>\n",
       "      <td>0</td>\n",
       "      <td>0</td>\n",
       "      <td>0</td>\n",
       "      <td>0</td>\n",
       "      <td>0</td>\n",
       "      <td>0</td>\n",
       "      <td>4</td>\n",
       "      <td>2</td>\n",
       "      <td>...</td>\n",
       "      <td>0</td>\n",
       "      <td>0</td>\n",
       "      <td>0</td>\n",
       "      <td>0</td>\n",
       "      <td>0</td>\n",
       "      <td>0</td>\n",
       "      <td>0</td>\n",
       "      <td>0</td>\n",
       "      <td>1</td>\n",
       "      <td>0</td>\n",
       "    </tr>\n",
       "    <tr>\n",
       "      <th>2</th>\n",
       "      <td>51625</td>\n",
       "      <td>0</td>\n",
       "      <td>0</td>\n",
       "      <td>3</td>\n",
       "      <td>39</td>\n",
       "      <td>26</td>\n",
       "      <td>2</td>\n",
       "      <td>0</td>\n",
       "      <td>249</td>\n",
       "      <td>2</td>\n",
       "      <td>...</td>\n",
       "      <td>0</td>\n",
       "      <td>0</td>\n",
       "      <td>0</td>\n",
       "      <td>0</td>\n",
       "      <td>0</td>\n",
       "      <td>0</td>\n",
       "      <td>0</td>\n",
       "      <td>0</td>\n",
       "      <td>0</td>\n",
       "      <td>1</td>\n",
       "    </tr>\n",
       "    <tr>\n",
       "      <th>3</th>\n",
       "      <td>51625</td>\n",
       "      <td>0</td>\n",
       "      <td>0</td>\n",
       "      <td>1</td>\n",
       "      <td>15</td>\n",
       "      <td>8</td>\n",
       "      <td>0</td>\n",
       "      <td>0</td>\n",
       "      <td>94</td>\n",
       "      <td>2</td>\n",
       "      <td>...</td>\n",
       "      <td>0</td>\n",
       "      <td>0</td>\n",
       "      <td>0</td>\n",
       "      <td>0</td>\n",
       "      <td>0</td>\n",
       "      <td>0</td>\n",
       "      <td>0</td>\n",
       "      <td>0</td>\n",
       "      <td>1</td>\n",
       "      <td>0</td>\n",
       "    </tr>\n",
       "    <tr>\n",
       "      <th>4</th>\n",
       "      <td>51626</td>\n",
       "      <td>0</td>\n",
       "      <td>0</td>\n",
       "      <td>0</td>\n",
       "      <td>69</td>\n",
       "      <td>1</td>\n",
       "      <td>1</td>\n",
       "      <td>4</td>\n",
       "      <td>526</td>\n",
       "      <td>2</td>\n",
       "      <td>...</td>\n",
       "      <td>0</td>\n",
       "      <td>0</td>\n",
       "      <td>0</td>\n",
       "      <td>0</td>\n",
       "      <td>0</td>\n",
       "      <td>0</td>\n",
       "      <td>0</td>\n",
       "      <td>0</td>\n",
       "      <td>1</td>\n",
       "      <td>0</td>\n",
       "    </tr>\n",
       "  </tbody>\n",
       "</table>\n",
       "<p>5 rows × 78 columns</p>\n",
       "</div>"
      ],
      "text/plain": [
       "    seqn  alcohol  b12_added  caffeine  carbohydrates  cholesterol  fiber  \\\n",
       "0  51624        0          0         0              0            0      0   \n",
       "1  51624        0          0         0              0            0      0   \n",
       "2  51625        0          0         3             39           26      2   \n",
       "3  51625        0          0         1             15            8      0   \n",
       "4  51626        0          0         0             69            1      1   \n",
       "\n",
       "   iron  calories  foodcomponent        ...         rcntdbp  rcntsbp  \\\n",
       "0     0         4              2        ...               0        0   \n",
       "1     0         4              2        ...               0        0   \n",
       "2     0       249              2        ...               0        0   \n",
       "3     0        94              2        ...               0        0   \n",
       "4     4       526              2        ...               0        0   \n",
       "\n",
       "   uomd_w_m_ydocrcntdbpsbp  lastpupilsdilated  feelriskfordia_0  \\\n",
       "0                        0                  0                 0   \n",
       "1                        0                  0                 0   \n",
       "2                        0                  0                 0   \n",
       "3                        0                  0                 0   \n",
       "4                        0                  0                 0   \n",
       "\n",
       "   feelriskfordia_1  feelriskfordia_2  feelriskfordia_9  feelriskfordia_0  \\\n",
       "0                 0                 0                 0                 1   \n",
       "1                 0                 0                 0                 1   \n",
       "2                 0                 0                 0                 0   \n",
       "3                 0                 0                 0                 1   \n",
       "4                 0                 0                 0                 1   \n",
       "\n",
       "   feelriskfordia_`  \n",
       "0                 0  \n",
       "1                 0  \n",
       "2                 1  \n",
       "3                 0  \n",
       "4                 0  \n",
       "\n",
       "[5 rows x 78 columns]"
      ]
     },
     "execution_count": 9,
     "metadata": {},
     "output_type": "execute_result"
    }
   ],
   "source": [
    "nutrition_data = nutrition_data.apply(np.int64)\n",
    "nutrition_data.head()"
   ]
  },
  {
   "cell_type": "code",
   "execution_count": 10,
   "metadata": {},
   "outputs": [
    {
     "data": {
      "text/plain": [
       "seqn                       int64\n",
       "alcohol                    int64\n",
       "b12_added                  int64\n",
       "caffeine                   int64\n",
       "carbohydrates              int64\n",
       "cholesterol                int64\n",
       "fiber                      int64\n",
       "iron                       int64\n",
       "calories                   int64\n",
       "foodcomponent              int64\n",
       "magnesium                  int64\n",
       "monosaturated_fat          int64\n",
       "potassium                  int64\n",
       "protein                    int64\n",
       "saturated_fat              int64\n",
       "sodium                     int64\n",
       "sugar                      int64\n",
       "trans_fat                  int64\n",
       "b12                        int64\n",
       "vitamin_d                  int64\n",
       "agetolddiabetes            int64\n",
       "lentakinginsulin           int64\n",
       "seendocpastyr              int64\n",
       "#chkglucose                int64\n",
       "docdbpread                 int64\n",
       "docsbpread                 int64\n",
       "rcntldl#                   int64\n",
       "docldlread                 int64\n",
       "docchkfeet#                int64\n",
       "prsnlchkfeet               int64\n",
       "                           ...  \n",
       "extrmhunger                int64\n",
       "tinginhdsfeet              int64\n",
       "blurredvision              int64\n",
       "incfatigue                 int64\n",
       "anyatrisk                  int64\n",
       "docwarning                 int64\n",
       "other                      int64\n",
       "gestationdia               int64\n",
       "frequrination              int64\n",
       "thirst                     int64\n",
       "craveeatsugr               int64\n",
       "medication                 int64\n",
       "polycysticovsyn            int64\n",
       "bloodtst3yrs               int64\n",
       "lenseendiaspec             int64\n",
       "onedocdia                  int64\n",
       "uomd_w_m_y                 int64\n",
       "pastyrchka1c               int64\n",
       "lasta1clvl                 int64\n",
       "docsaya1c                  int64\n",
       "rcntdbp                    int64\n",
       "rcntsbp                    int64\n",
       "uomd_w_m_ydocrcntdbpsbp    int64\n",
       "lastpupilsdilated          int64\n",
       "feelriskfordia_0           int64\n",
       "feelriskfordia_1           int64\n",
       "feelriskfordia_2           int64\n",
       "feelriskfordia_9           int64\n",
       "feelriskfordia_0           int64\n",
       "feelriskfordia_`           int64\n",
       "Length: 78, dtype: object"
      ]
     },
     "execution_count": 10,
     "metadata": {},
     "output_type": "execute_result"
    }
   ],
   "source": [
    "nutrition_data.dtypes"
   ]
  },
  {
   "cell_type": "code",
   "execution_count": 11,
   "metadata": {},
   "outputs": [],
   "source": [
    "#Merge\n",
    "# diabetes_nutr = diabetes_data.merge(nutrition_data,how='inner',on='SEQN')\n",
    "# diabetes_nutr.head()"
   ]
  },
  {
   "cell_type": "code",
   "execution_count": 12,
   "metadata": {
    "scrolled": true
   },
   "outputs": [],
   "source": [
    "# diabetes_nutr.dtypes"
   ]
  },
  {
   "cell_type": "code",
   "execution_count": 13,
   "metadata": {},
   "outputs": [],
   "source": [
    "nutrition_data.to_csv('diabetes_nutr.csv')"
   ]
  },
  {
   "cell_type": "code",
   "execution_count": 33,
   "metadata": {},
   "outputs": [
    {
     "data": {
      "text/html": [
       "<div>\n",
       "<style scoped>\n",
       "    .dataframe tbody tr th:only-of-type {\n",
       "        vertical-align: middle;\n",
       "    }\n",
       "\n",
       "    .dataframe tbody tr th {\n",
       "        vertical-align: top;\n",
       "    }\n",
       "\n",
       "    .dataframe thead th {\n",
       "        text-align: right;\n",
       "    }\n",
       "</style>\n",
       "<table border=\"1\" class=\"dataframe\">\n",
       "  <thead>\n",
       "    <tr style=\"text-align: right;\">\n",
       "      <th></th>\n",
       "      <th>seqn</th>\n",
       "      <th>alcohol</th>\n",
       "      <th>b12_added</th>\n",
       "      <th>caffeine</th>\n",
       "      <th>carbohydrates</th>\n",
       "      <th>cholesterol</th>\n",
       "      <th>fiber</th>\n",
       "      <th>iron</th>\n",
       "      <th>calories</th>\n",
       "      <th>foodcomponent</th>\n",
       "      <th>...</th>\n",
       "      <th>rcntdbp</th>\n",
       "      <th>rcntsbp</th>\n",
       "      <th>uomd_w_m_ydocrcntdbpsbp</th>\n",
       "      <th>lastpupilsdilated</th>\n",
       "      <th>feelriskfordia_0</th>\n",
       "      <th>feelriskfordia_1</th>\n",
       "      <th>feelriskfordia_2</th>\n",
       "      <th>feelriskfordia_9</th>\n",
       "      <th>feelriskfordia_0</th>\n",
       "      <th>feelriskfordia_`</th>\n",
       "    </tr>\n",
       "  </thead>\n",
       "  <tbody>\n",
       "    <tr>\n",
       "      <th>29828</th>\n",
       "      <td>73578</td>\n",
       "      <td>0</td>\n",
       "      <td>0</td>\n",
       "      <td>0</td>\n",
       "      <td>29</td>\n",
       "      <td>49</td>\n",
       "      <td>0</td>\n",
       "      <td>0</td>\n",
       "      <td>305</td>\n",
       "      <td>2</td>\n",
       "      <td>...</td>\n",
       "      <td>0</td>\n",
       "      <td>0</td>\n",
       "      <td>0</td>\n",
       "      <td>0</td>\n",
       "      <td>0</td>\n",
       "      <td>0</td>\n",
       "      <td>1</td>\n",
       "      <td>0</td>\n",
       "      <td>0</td>\n",
       "      <td>0</td>\n",
       "    </tr>\n",
       "    <tr>\n",
       "      <th>24894</th>\n",
       "      <td>68491</td>\n",
       "      <td>0</td>\n",
       "      <td>0</td>\n",
       "      <td>71</td>\n",
       "      <td>0</td>\n",
       "      <td>0</td>\n",
       "      <td>0</td>\n",
       "      <td>0</td>\n",
       "      <td>2</td>\n",
       "      <td>2</td>\n",
       "      <td>...</td>\n",
       "      <td>0</td>\n",
       "      <td>0</td>\n",
       "      <td>0</td>\n",
       "      <td>0</td>\n",
       "      <td>0</td>\n",
       "      <td>0</td>\n",
       "      <td>1</td>\n",
       "      <td>0</td>\n",
       "      <td>0</td>\n",
       "      <td>0</td>\n",
       "    </tr>\n",
       "    <tr>\n",
       "      <th>6618</th>\n",
       "      <td>56077</td>\n",
       "      <td>0</td>\n",
       "      <td>0</td>\n",
       "      <td>0</td>\n",
       "      <td>0</td>\n",
       "      <td>0</td>\n",
       "      <td>0</td>\n",
       "      <td>0</td>\n",
       "      <td>0</td>\n",
       "      <td>2</td>\n",
       "      <td>...</td>\n",
       "      <td>0</td>\n",
       "      <td>0</td>\n",
       "      <td>0</td>\n",
       "      <td>0</td>\n",
       "      <td>0</td>\n",
       "      <td>0</td>\n",
       "      <td>0</td>\n",
       "      <td>0</td>\n",
       "      <td>1</td>\n",
       "      <td>0</td>\n",
       "    </tr>\n",
       "    <tr>\n",
       "      <th>26767</th>\n",
       "      <td>69806</td>\n",
       "      <td>0</td>\n",
       "      <td>0</td>\n",
       "      <td>101</td>\n",
       "      <td>0</td>\n",
       "      <td>0</td>\n",
       "      <td>0</td>\n",
       "      <td>0</td>\n",
       "      <td>3</td>\n",
       "      <td>2</td>\n",
       "      <td>...</td>\n",
       "      <td>0</td>\n",
       "      <td>0</td>\n",
       "      <td>0</td>\n",
       "      <td>0</td>\n",
       "      <td>0</td>\n",
       "      <td>0</td>\n",
       "      <td>1</td>\n",
       "      <td>0</td>\n",
       "      <td>0</td>\n",
       "      <td>0</td>\n",
       "    </tr>\n",
       "    <tr>\n",
       "      <th>35702</th>\n",
       "      <td>77532</td>\n",
       "      <td>0</td>\n",
       "      <td>0</td>\n",
       "      <td>108</td>\n",
       "      <td>0</td>\n",
       "      <td>0</td>\n",
       "      <td>0</td>\n",
       "      <td>0</td>\n",
       "      <td>3</td>\n",
       "      <td>2</td>\n",
       "      <td>...</td>\n",
       "      <td>0</td>\n",
       "      <td>0</td>\n",
       "      <td>0</td>\n",
       "      <td>0</td>\n",
       "      <td>0</td>\n",
       "      <td>0</td>\n",
       "      <td>1</td>\n",
       "      <td>0</td>\n",
       "      <td>0</td>\n",
       "      <td>0</td>\n",
       "    </tr>\n",
       "  </tbody>\n",
       "</table>\n",
       "<p>5 rows × 78 columns</p>\n",
       "</div>"
      ],
      "text/plain": [
       "        seqn  alcohol  b12_added  caffeine  carbohydrates  cholesterol  fiber  \\\n",
       "29828  73578        0          0         0             29           49      0   \n",
       "24894  68491        0          0        71              0            0      0   \n",
       "6618   56077        0          0         0              0            0      0   \n",
       "26767  69806        0          0       101              0            0      0   \n",
       "35702  77532        0          0       108              0            0      0   \n",
       "\n",
       "       iron  calories  foodcomponent        ...         rcntdbp  rcntsbp  \\\n",
       "29828     0       305              2        ...               0        0   \n",
       "24894     0         2              2        ...               0        0   \n",
       "6618      0         0              2        ...               0        0   \n",
       "26767     0         3              2        ...               0        0   \n",
       "35702     0         3              2        ...               0        0   \n",
       "\n",
       "       uomd_w_m_ydocrcntdbpsbp  lastpupilsdilated  feelriskfordia_0  \\\n",
       "29828                        0                  0                 0   \n",
       "24894                        0                  0                 0   \n",
       "6618                         0                  0                 0   \n",
       "26767                        0                  0                 0   \n",
       "35702                        0                  0                 0   \n",
       "\n",
       "       feelriskfordia_1  feelriskfordia_2  feelriskfordia_9  feelriskfordia_0  \\\n",
       "29828                 0                 1                 0                 0   \n",
       "24894                 0                 1                 0                 0   \n",
       "6618                  0                 0                 0                 1   \n",
       "26767                 0                 1                 0                 0   \n",
       "35702                 0                 1                 0                 0   \n",
       "\n",
       "       feelriskfordia_`  \n",
       "29828                 0  \n",
       "24894                 0  \n",
       "6618                  0  \n",
       "26767                 0  \n",
       "35702                 0  \n",
       "\n",
       "[5 rows x 78 columns]"
      ]
     },
     "execution_count": 33,
     "metadata": {},
     "output_type": "execute_result"
    }
   ],
   "source": [
    "diabetes_sample = nutrition_data.sample(frac=0.5,replace=True,random_state=25)\n",
    "diabetes_sample.head()"
   ]
  },
  {
   "cell_type": "code",
   "execution_count": 34,
   "metadata": {},
   "outputs": [],
   "source": [
    "diabetes_sample=diabetes_sample[diabetes_sample['evrtoldpredia']!=0].copy()"
   ]
  },
  {
   "cell_type": "code",
   "execution_count": 35,
   "metadata": {},
   "outputs": [],
   "source": [
    "# #Variables, target & shape\n",
    "# X = diabetes_nutr[['Overweight','Age','PoorDiet','Race','LackOfPhyAct','HighBP','HighBS','HighChol']] #Variable\n",
    "# y = diabetes_nutr['EvrToldPreDia(Bi)'].values.reshape(-1,1) #test\n",
    "# print (X.shape, y.shape)"
   ]
  },
  {
   "cell_type": "code",
   "execution_count": 36,
   "metadata": {},
   "outputs": [],
   "source": [
    "# #Variables, target & shape\n",
    "# X = diabetes_nutr[['ALCOHOL','B12_ADDED','CAFFEINE','CARBOHYDRATES','CHOLESTEROL','FIBER','IRON','CALORIES','FOODCOMPONENT','MAGNESIUM','MONOSATURATED_FAT','POTASSIUM','PROTEIN','SATURATED_FAT','SODIUM','SUGAR']] #Variable\n",
    "# y = diabetes_nutr['EvrToldPreDia(Bi)'].values.reshape(-1,1) #test\n",
    "# print (X.shape, y.shape)"
   ]
  },
  {
   "cell_type": "code",
   "execution_count": 37,
   "metadata": {},
   "outputs": [
    {
     "name": "stdout",
     "output_type": "stream",
     "text": [
      "(19702, 2) (19702,)\n"
     ]
    }
   ],
   "source": [
    "#Variables, target & shape\n",
    "X = diabetes_sample[['magnesium','caffeine']] #Variable\n",
    "y = diabetes_sample['evrtoldpredia'].values.reshape(-1) #test\n",
    "print (X.shape, y.shape)"
   ]
  },
  {
   "cell_type": "code",
   "execution_count": 38,
   "metadata": {},
   "outputs": [
    {
     "data": {
      "text/plain": [
       "2    18572\n",
       "1     1130\n",
       "Name: evrtoldpredia, dtype: int64"
      ]
     },
     "execution_count": 38,
     "metadata": {},
     "output_type": "execute_result"
    }
   ],
   "source": [
    "diabetes_sample['evrtoldpredia'].value_counts()"
   ]
  },
  {
   "cell_type": "code",
   "execution_count": 39,
   "metadata": {
    "scrolled": true
   },
   "outputs": [
    {
     "name": "stdout",
     "output_type": "stream",
     "text": [
      "labels: [2 2 2 2 2 2 2 2 2 2]\n",
      "data:        magnesium  caffeine\n",
      "29828         67         0\n",
      "24894          5        71\n",
      "6618         152         0\n",
      "26767          8       101\n",
      "35702          8       108\n",
      "56236         11         0\n",
      "59314          6         0\n",
      "21245         26         0\n",
      "33928         25         0\n",
      "7324           6         0\n"
     ]
    }
   ],
   "source": [
    "print(f\"labels: {y[:10]}\")\n",
    "print(f\"data: {X[:10]}\")"
   ]
  },
  {
   "cell_type": "code",
   "execution_count": 40,
   "metadata": {},
   "outputs": [
    {
     "data": {
      "text/plain": [
       "<matplotlib.collections.PathCollection at 0x1845a6e2b38>"
      ]
     },
     "execution_count": 40,
     "metadata": {},
     "output_type": "execute_result"
    },
    {
     "data": {
      "image/png": "[encoded data removed]",
      "text/plain": [
       "<Figure size 432x288 with 1 Axes>"
      ]
     },
     "metadata": {
      "needs_background": "light"
     },
     "output_type": "display_data"
    }
   ],
   "source": [
    "plt.scatter(X.iloc[:,0], X.iloc[:, 1], c=y)"
   ]
  },
  {
   "cell_type": "code",
   "execution_count": 41,
   "metadata": {},
   "outputs": [
    {
     "name": "stdout",
     "output_type": "stream",
     "text": [
      "(19702, 2) (19702, 1)\n"
     ]
    }
   ],
   "source": [
    "X = diabetes_sample[['magnesium','caffeine']] #Variable\n",
    "y = diabetes_sample['evrtoldpredia'].values.reshape(-1,1) #test\n",
    "print (X.shape, y.shape)"
   ]
  },
  {
   "cell_type": "code",
   "execution_count": 42,
   "metadata": {},
   "outputs": [],
   "source": [
    "#Training and Testing\n",
    "#X=Variable & y=target\n",
    "X_train, X_test, y_train, y_test = train_test_split(X,y,random_state=50)"
   ]
  },
  {
   "cell_type": "code",
   "execution_count": 43,
   "metadata": {},
   "outputs": [],
   "source": [
    "#Create a StandardScater model and fit training\n",
    "X_scaler = StandardScaler().fit(X_train)\n",
    "y_scaler = StandardScaler().fit(y_train) #y already binary? ML day 2\n"
   ]
  },
  {
   "cell_type": "code",
   "execution_count": 44,
   "metadata": {},
   "outputs": [],
   "source": [
    "#\n",
    "X_train_scaled = X_scaler.transform(X_train)\n",
    "X_test_scaled = X_scaler.transform(X_test)\n",
    "y_train_scaled = y_scaler.transform(y_train)\n",
    "y_test_scaled = y_scaler.transform(y_test)"
   ]
  },
  {
   "cell_type": "code",
   "execution_count": 45,
   "metadata": {},
   "outputs": [
    {
     "data": {
      "text/plain": [
       "LogisticRegression(C=1.0, class_weight=None, dual=False, fit_intercept=True,\n",
       "          intercept_scaling=1, max_iter=100, multi_class='warn',\n",
       "          n_jobs=None, penalty='l2', random_state=None, solver='warn',\n",
       "          tol=0.0001, verbose=0, warm_start=False)"
      ]
     },
     "execution_count": 45,
     "metadata": {},
     "output_type": "execute_result"
    }
   ],
   "source": [
    "#LinearRegression model\n",
    "model = LogisticRegression()\n",
    "model.fit(X_train_scaled, y_train)"
   ]
  },
  {
   "cell_type": "code",
   "execution_count": 46,
   "metadata": {},
   "outputs": [
    {
     "name": "stdout",
     "output_type": "stream",
     "text": [
      "trainingDataScore: 0.9414591229020033\n",
      "testingDataScore: 0.9462038164839627\n"
     ]
    }
   ],
   "source": [
    "print(f\"trainingDataScore: {model.score(X_train, y_train)}\")\n",
    "print(f\"testingDataScore: {model.score(X_test, y_test)}\")"
   ]
  },
  {
   "cell_type": "code",
   "execution_count": 47,
   "metadata": {},
   "outputs": [
    {
     "data": {
      "text/plain": [
       "LogisticRegression(C=1.0, class_weight=None, dual=False, fit_intercept=True,\n",
       "          intercept_scaling=1, max_iter=100, multi_class='warn',\n",
       "          n_jobs=None, penalty='l2', random_state=None, solver='warn',\n",
       "          tol=0.0001, verbose=0, warm_start=False)"
      ]
     },
     "execution_count": 47,
     "metadata": {},
     "output_type": "execute_result"
    }
   ],
   "source": [
    "#Make prediction\n",
    "#Use X_test_scaled data\n",
    "#Plot y_test_scaled vs y_test scaled\n",
    "\n",
    "#Random slice of model - exiting matplot or principal component analysis python\n",
    "\n",
    "predictions = model.predict(X_test_scaled)\n",
    "model.fit(X_train_scaled,y_train)\n",
    "# plt.scatter(model.predict(X_train_scaled), model.predict(X_train_scaled)-y_train, c=\"blue\", label=\"Training Data\")\n",
    "# plt.scatter(model.predict(X_test_scaled), model.predict(X_test_scaled)-y_test, c=\"orange\", label=\"Testing Data\")\n",
    "# plt.legend()\n",
    "# plt.hlines(y=0, xmin=y_test.min(), xmax=y_test.max())\n",
    "# plt.title(\"Residual Plot\")\n",
    "# plt.show()\n",
    "# plt.scatter(X[:,0], X[:,1], c=y)"
   ]
  },
  {
   "cell_type": "code",
   "execution_count": 48,
   "metadata": {},
   "outputs": [
    {
     "name": "stdout",
     "output_type": "stream",
     "text": [
      "MSE:0.053796183516037356, R2: 0.9462038164839627\n"
     ]
    }
   ],
   "source": [
    "#MSE & r2\n",
    "MSE = mean_squared_error(y_test, predictions)\n",
    "r2 = model.score(X_test_scaled, y_test)\n",
    "print(f'MSE:{MSE}, R2: {r2}')"
   ]
  },
  {
   "cell_type": "code",
   "execution_count": 49,
   "metadata": {},
   "outputs": [
    {
     "name": "stdout",
     "output_type": "stream",
     "text": [
      "MSE:0.05092466627233287, R2: 0.9462038164839627\n"
     ]
    }
   ],
   "source": [
    "#Lasso model\n",
    "lasso = Lasso(alpha=.01).fit(X_train_scaled,y_train)\n",
    "predictions = lasso.predict(X_test_scaled)\n",
    "MSE = mean_squared_error(y_test, predictions)\n",
    "r2 = model.score(X_test_scaled, y_test)\n",
    "print(f'MSE:{MSE}, R2: {r2}')"
   ]
  },
  {
   "cell_type": "code",
   "execution_count": 50,
   "metadata": {},
   "outputs": [
    {
     "name": "stdout",
     "output_type": "stream",
     "text": [
      "MSE:0.05092497760933093, R2: 0.9462038164839627\n"
     ]
    }
   ],
   "source": [
    "#Ridge model\n",
    "ridge = Ridge(alpha=.01).fit(X_train_scaled, y_train)\n",
    "predictions = ridge.predict(X_test_scaled)\n",
    "MSE = mean_squared_error(y_test, predictions)\n",
    "r2 = model.score(X_test_scaled, y_test)\n",
    "print(f'MSE:{MSE}, R2: {r2}')"
   ]
  },
  {
   "cell_type": "code",
   "execution_count": 32,
   "metadata": {},
   "outputs": [
    {
     "name": "stdout",
     "output_type": "stream",
     "text": [
      "MSE:0.05077674172408434, R2: -2.344179154789572e-06\n"
     ]
    }
   ],
   "source": [
    "#ElasticNet model\n",
    "elasticnet = ElasticNet(alpha=.01).fit(X_train_scaled, y_train)\n",
    "predictions = elasticnet.predict(X_test_scaled)\n",
    "MSE = mean_squared_error(y_test, predictions)\n",
    "r2 = elasticnet.score(X_test_scaled,y_test)\n",
    "print(f'MSE:{MSE}, R2: {r2}')"
   ]
  },
  {
   "cell_type": "code",
   "execution_count": null,
   "metadata": {},
   "outputs": [],
   "source": []
  }
 ],
 "metadata": {
  "kernelspec": {
   "display_name": "Python 3",
   "language": "python",
   "name": "python3"
  },
  "language_info": {
   "codemirror_mode": {
    "name": "ipython",
    "version": 3
   },
   "file_extension": ".py",
   "mimetype": "text/x-python",
   "name": "python",
   "nbconvert_exporter": "python",
   "pygments_lexer": "ipython3",
   "version": "3.6.6"
  }
 },
 "nbformat": 4,
 "nbformat_minor": 2
}
