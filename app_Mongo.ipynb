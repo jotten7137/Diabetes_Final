{
 "cells": [
  {
   "cell_type": "code",
   "execution_count": 1,
   "metadata": {},
   "outputs": [],
   "source": [
    "#Dependencies\n",
    "from flask import Flask\n",
    "from flask import render_template\n",
    "from pymongo import MongoClient\n",
    "from bson import json_util\n",
    "from bson.json_util import dumps\n",
    "\n",
    "import json"
   ]
  },
  {
   "cell_type": "code",
   "execution_count": 2,
   "metadata": {},
   "outputs": [],
   "source": [
    "app = Flask(__name__)"
   ]
  },
  {
   "cell_type": "code",
   "execution_count": 3,
   "metadata": {},
   "outputs": [],
   "source": [
    "MONGODB_HOST = 'localhost'\n",
    "MONGODB_PORT = 27017\n",
    "DBS_NAME = 'Diabetes'\n",
    "COLLECTION_NAME = 'Diabetes_nutr'\n",
    "FIELDS = {'ID_x': True, \n",
    "            'ALCOHOL': True, \n",
    "            'B12_ADDED': True, \n",
    "            'CAFFEINE':True,\n",
    "            'CARBOHYDRATES': True, \n",
    "            'CHOLESTEROL': True, \n",
    "            'FIBER': True,\n",
    "            'IRON':True,\n",
    "            'CALORIES':True, \n",
    "            'FOODCOMPONENT': True,\n",
    "            'MAGNESIUM': True, \n",
    "            'MONOSATURATED_FAT':True,\n",
    "            'POTASSIUM':True,\n",
    "            'PROTEIN':True,\n",
    "            'SATURATED_FAT':True,\n",
    "            'SODIUM':True,\n",
    "            'SUGAR':True,\n",
    "            'TRANS_FAT':True,\n",
    "            'B12':True,\n",
    "            'VITAMIN_D':True,\n",
    "            'DRABF':True,\n",
    "            'DRDINT':True,\n",
    "            'SEQN':True,\n",
    "            'WTDR2D':True,\n",
    "            'WTDRD1':True,\n",
    "            'ID_y':True,\n",
    "            'AgeToldDiabetes':True,\n",
    "            'LenTakingInsulin':True,\n",
    "            'SeenDocPastYr':True,\n",
    "            '#ChkGlucose':True,\n",
    "            'DocDBPread':True,\n",
    "            'DocSBPread':True,\n",
    "            'RcntLDL#':True,\n",
    "            'DocLDLread':True,\n",
    "            'DocChkFeet#':True,\n",
    "            'PrsnlChkFeet':True,\n",
    "            'DocToldDiabetes':True,\n",
    "            'TakeInsulin':True,\n",
    "            'UOMmmyy':True,\n",
    "            'TakePillsLwrBS':True,\n",
    "            'DiaAffectEyes':True,\n",
    "            'EvrToldPreDia':True,\n",
    "            'EvrToldPreDia(Bi)':True,\n",
    "            'EvrToldHeaRskDia':True,\n",
    "            'FeelRiskForDia':True,\n",
    "            'FamHistory':True,\n",
    "            'Overweight':True,\n",
    "            'Age':True,\n",
    "            'PoorDiet':True,\n",
    "            'Race':True,\n",
    "            'HadBabyOvr9lb':True,\n",
    "            'LackOfPhyAct':True,\n",
    "            'HighBP':True,\n",
    "            'HighBS':True,\n",
    "            'HighChol':True,\n",
    "            'Hypoglycemic':True,\n",
    "            'ExtrmHunger':True,\n",
    "            'TingInHdsFeet':True,\n",
    "            'BlurredVision':True,\n",
    "            'IncFatigue':True,\n",
    "            'AnyAtRisk':True,\n",
    "            'DocWarning':True,\n",
    "            'Other':True,\n",
    "            'GestationDia':True,\n",
    "            'FreqUrination':True,\n",
    "            'Thirst':True,\n",
    "            'CraveEatSugr':True,\n",
    "            'Medication':True,\n",
    "            'PolycysticOvSyn':True,\n",
    "            'BloodTst3Yrs':True,\n",
    "            'LenSeenDiaSpec':True,\n",
    "            'OneDocDia':True,\n",
    "            'UOMd_w_m_y':True,\n",
    "            'PastYrChkA1C':True,\n",
    "            'LastA1Clvl':True,\n",
    "            'DocSayA1C':True,\n",
    "            'RcntDBP':True,\n",
    "            'RcntSBP':True,\n",
    "            'UOMd_w_m_yDocRcntDBPsbp':True,\n",
    "            'LastPupilsDilated':True\n",
    "         }"
   ]
  },
  {
   "cell_type": "code",
   "execution_count": 4,
   "metadata": {},
   "outputs": [],
   "source": [
    "@app.route(\"/\")\n",
    "def index():\n",
    "    return render_template(\"dash.html\")"
   ]
  },
  {
   "cell_type": "code",
   "execution_count": 5,
   "metadata": {},
   "outputs": [],
   "source": [
    "@app.route(\"/Final Project - Nutrition\")\n",
    "def project_nutrition():\n",
    "    connection = MongoClient(MONGODB_HOST, MONGODB_PORT)\n",
    "    collection = connection[DBS_NAME][COLLECTION_NAME]\n",
    "    pre_diabetes = collection.find(projection=FIELDS, limit=1000)\n",
    "    #comments = collection.find(projection=FIELDS)\n",
    "    json_diabetes = []\n",
    "    for i in pre_diabetes:\n",
    "        json_diabetes.append(pre_diabetes)\n",
    "    json_diabetes = json.dumps(json_diabetes, default=json_util.default)\n",
    "    connection.close()\n",
    "    return json_diabetes"
   ]
  },
  {
   "cell_type": "code",
   "execution_count": 6,
   "metadata": {},
   "outputs": [
    {
     "name": "stdout",
     "output_type": "stream",
     "text": [
      " * Serving Flask app \"__main__\" (lazy loading)\n",
      " * Environment: production\n",
      "   WARNING: Do not use the development server in a production environment.\n",
      "   Use a production WSGI server instead.\n",
      " * Debug mode: on\n"
     ]
    },
    {
     "name": "stderr",
     "output_type": "stream",
     "text": [
      " * Restarting with stat\n"
     ]
    },
    {
     "ename": "SystemExit",
     "evalue": "1",
     "output_type": "error",
     "traceback": [
      "An exception has occurred, use %tb to see the full traceback.\n",
      "\u001b[1;31mSystemExit\u001b[0m\u001b[1;31m:\u001b[0m 1\n"
     ]
    },
    {
     "name": "stderr",
     "output_type": "stream",
     "text": [
      "C:\\Users\\Josh\\Anaconda3\\lib\\site-packages\\IPython\\core\\interactiveshell.py:3275: UserWarning: To exit: use 'exit', 'quit', or Ctrl-D.\n",
      "  warn(\"To exit: use 'exit', 'quit', or Ctrl-D.\", stacklevel=1)\n"
     ]
    }
   ],
   "source": [
    "if __name__ == '__main__':\n",
    "    app.run(debug=True)"
   ]
  },
  {
   "cell_type": "code",
   "execution_count": null,
   "metadata": {},
   "outputs": [],
   "source": []
  }
 ],
 "metadata": {
  "kernelspec": {
   "display_name": "Python 3",
   "language": "python",
   "name": "python3"
  },
  "language_info": {
   "codemirror_mode": {
    "name": "ipython",
    "version": 3
   },
   "file_extension": ".py",
   "mimetype": "text/x-python",
   "name": "python",
   "nbconvert_exporter": "python",
   "pygments_lexer": "ipython3",
   "version": "3.6.6"
  }
 },
 "nbformat": 4,
 "nbformat_minor": 2
}
